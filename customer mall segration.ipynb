{
 "cells": [
  {
   "cell_type": "code",
   "execution_count": 19,
   "id": "6b9dae06",
   "metadata": {},
   "outputs": [
    {
     "name": "stdout",
     "output_type": "stream",
     "text": [
      "   CustomerID  Gender  Age  Annual Income (k$)  Spending Score (1-100)\n",
      "0           1    Male   19                  15                      39\n",
      "1           2    Male   21                  15                      81\n",
      "2           3  Female   20                  16                       6\n",
      "3           4  Female   23                  16                      77\n",
      "4           5  Female   31                  17                      40\n",
      "<class 'pandas.core.frame.DataFrame'>\n",
      "RangeIndex: 200 entries, 0 to 199\n",
      "Data columns (total 5 columns):\n",
      " #   Column                  Non-Null Count  Dtype \n",
      "---  ------                  --------------  ----- \n",
      " 0   CustomerID              200 non-null    int64 \n",
      " 1   Gender                  200 non-null    object\n",
      " 2   Age                     200 non-null    int64 \n",
      " 3   Annual Income (k$)      200 non-null    int64 \n",
      " 4   Spending Score (1-100)  200 non-null    int64 \n",
      "dtypes: int64(4), object(1)\n",
      "memory usage: 7.9+ KB\n",
      "None\n",
      "CustomerID                0\n",
      "Gender                    0\n",
      "Age                       0\n",
      "Annual Income (k$)        0\n",
      "Spending Score (1-100)    0\n",
      "dtype: int64\n",
      "Duplicate rows: 0\n",
      "<class 'pandas.core.frame.DataFrame'>\n",
      "RangeIndex: 200 entries, 0 to 199\n",
      "Data columns (total 5 columns):\n",
      " #   Column                  Non-Null Count  Dtype \n",
      "---  ------                  --------------  ----- \n",
      " 0   customerid              200 non-null    int64 \n",
      " 1   gender                  200 non-null    object\n",
      " 2   age                     200 non-null    int64 \n",
      " 3   annual_income_(k$)      200 non-null    int64 \n",
      " 4   spending_score_(1-100)  200 non-null    int64 \n",
      "dtypes: int64(4), object(1)\n",
      "memory usage: 7.9+ KB\n",
      "None\n",
      " Cleaned data\n"
     ]
    }
   ],
   "source": [
    "import pandas as pd\n",
    "\n",
    "# Step 1: Loading the dataset\n",
    "df = pd.read_csv(r\"C:\\Users\\Sneha\\Downloads\\Mall_Customers.csv\")\n",
    "\n",
    "# Step 2: Showing the first few rows\n",
    "print(df.head())\n",
    "\n",
    "# Step 3: Checking basic info\n",
    "print(df.info())\n",
    "\n",
    "# Step 4: Checking for missing values\n",
    "print(df.isnull().sum())\n",
    "\n",
    "# Step 5: Checking for duplicate rows\n",
    "print(\"Duplicate rows:\", df.duplicated().sum())\n",
    "\n",
    "# Step 6: Removing duplicate rows\n",
    "df = df.drop_duplicates()\n",
    "\n",
    "# Step 7: Renaming column names\n",
    "df.columns = df.columns.str.lower().str.replace(\" \", \"_\")\n",
    "\n",
    "# Step 8: Cleaning the gender column \n",
    "df[\"gender\"] = df[\"gender\"].str.lower().str.strip()\n",
    "\n",
    "# Step 9: Converting columns to correct data types\n",
    "df[\"age\"] = df[\"age\"].astype(int)\n",
    "df[\"annual_income_(k$)\"] = df[\"annual_income_(k$)\"].astype(int)\n",
    "df[\"spending_score_(1-100)\"] = df[\"spending_score_(1-100)\"].astype(int)\n",
    "\n",
    "# Step 10: Showing cleaned dataset info\n",
    "print(df.info())\n",
    "\n",
    "# Step 11: Saving cleaned dataset to a new file\n",
    "df.to_csv(\"mall_customers_cleaned.csv\", index=False)\n",
    "\n",
    "print(\" Cleaned data\")\n"
   ]
  },
  {
   "cell_type": "code",
   "execution_count": 20,
   "id": "54ce8a12",
   "metadata": {},
   "outputs": [],
   "source": [
    "df.to_csv(\"mall_customers_cleaned.csv\", index=False)\n"
   ]
  },
  {
   "cell_type": "code",
   "execution_count": 21,
   "id": "99fcef64",
   "metadata": {},
   "outputs": [
    {
     "data": {
      "text/html": [
       "<a href='mall_customers_cleaned.csv' target='_blank'>mall_customers_cleaned.csv</a><br>"
      ],
      "text/plain": [
       "c:\\Users\\Sneha\\mall_customers_cleaned.csv"
      ]
     },
     "execution_count": 21,
     "metadata": {},
     "output_type": "execute_result"
    }
   ],
   "source": [
    "from IPython.display import FileLink\n",
    "\n",
    "FileLink('mall_customers_cleaned.csv')\n",
    "\n",
    "\n"
   ]
  },
  {
   "cell_type": "code",
   "execution_count": 15,
   "id": "5f7c9463",
   "metadata": {},
   "outputs": [
    {
     "name": "stdout",
     "output_type": "stream",
     "text": [
      "Collecting openpyxl\n",
      "  Obtaining dependency information for openpyxl from https://files.pythonhosted.org/packages/c0/da/977ded879c29cbd04de313843e76868e6e13408a94ed6b987245dc7c8506/openpyxl-3.1.5-py2.py3-none-any.whl.metadata\n",
      "  Downloading openpyxl-3.1.5-py2.py3-none-any.whl.metadata (2.5 kB)\n",
      "Collecting et-xmlfile (from openpyxl)\n",
      "  Obtaining dependency information for et-xmlfile from https://files.pythonhosted.org/packages/c1/8b/5fe2cc11fee489817272089c4203e679c63b570a5aaeb18d852ae3cbba6a/et_xmlfile-2.0.0-py3-none-any.whl.metadata\n",
      "  Downloading et_xmlfile-2.0.0-py3-none-any.whl.metadata (2.7 kB)\n",
      "Downloading openpyxl-3.1.5-py2.py3-none-any.whl (250 kB)\n",
      "   ---------------------------------------- 0.0/250.9 kB ? eta -:--:--\n",
      "   ------ -------------------------------- 41.0/250.9 kB 991.0 kB/s eta 0:00:01\n",
      "   ---------------------------------------- 250.9/250.9 kB 3.9 MB/s eta 0:00:00\n",
      "Downloading et_xmlfile-2.0.0-py3-none-any.whl (18 kB)\n",
      "Installing collected packages: et-xmlfile, openpyxl\n",
      "Successfully installed et-xmlfile-2.0.0 openpyxl-3.1.5\n",
      "Note: you may need to restart the kernel to use updated packages.\n"
     ]
    },
    {
     "name": "stderr",
     "output_type": "stream",
     "text": [
      "\n",
      "[notice] A new release of pip is available: 23.2.1 -> 25.2\n",
      "[notice] To update, run: python.exe -m pip install --upgrade pip\n"
     ]
    }
   ],
   "source": [
    "%pip install openpyxl\n",
    "\n"
   ]
  },
  {
   "cell_type": "code",
   "execution_count": 22,
   "id": "cb920fff",
   "metadata": {},
   "outputs": [
    {
     "data": {
      "text/html": [
       "<a href='mall_customers_cleaned.xlsx' target='_blank'>mall_customers_cleaned.xlsx</a><br>"
      ],
      "text/plain": [
       "c:\\Users\\Sneha\\mall_customers_cleaned.xlsx"
      ]
     },
     "execution_count": 22,
     "metadata": {},
     "output_type": "execute_result"
    }
   ],
   "source": [
    "from IPython.display import FileLink\n",
    "FileLink(\"mall_customers_cleaned.xlsx\")\n"
   ]
  }
 ],
 "metadata": {
  "kernelspec": {
   "display_name": "Python 3",
   "language": "python",
   "name": "python3"
  },
  "language_info": {
   "codemirror_mode": {
    "name": "ipython",
    "version": 3
   },
   "file_extension": ".py",
   "mimetype": "text/x-python",
   "name": "python",
   "nbconvert_exporter": "python",
   "pygments_lexer": "ipython3",
   "version": "3.12.1"
  }
 },
 "nbformat": 4,
 "nbformat_minor": 5
}
